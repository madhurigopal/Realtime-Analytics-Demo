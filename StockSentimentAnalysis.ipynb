{
  "nbformat": 4,
  "nbformat_minor": 0,
  "metadata": {
    "colab": {
      "provenance": []
    },
    "kernelspec": {
      "name": "python3",
      "display_name": "Python 3"
    },
    "language_info": {
      "name": "python"
    }
  },
  "cells": [
    {
      "cell_type": "code",
      "execution_count": null,
      "metadata": {
        "colab": {
          "base_uri": "https://localhost:8080/"
        },
        "id": "dbhFMGcw6bWi",
        "outputId": "b452748a-9fed-461f-fdad-411590a3097a"
      },
      "outputs": [
        {
          "output_type": "stream",
          "name": "stdout",
          "text": [
            "Requirement already satisfied: GoogleNews in /usr/local/lib/python3.10/dist-packages (1.6.12)\n",
            "Requirement already satisfied: beautifulsoup4 in /usr/local/lib/python3.10/dist-packages (from GoogleNews) (4.11.2)\n",
            "Requirement already satisfied: dateparser in /usr/local/lib/python3.10/dist-packages (from GoogleNews) (1.2.0)\n",
            "Requirement already satisfied: python-dateutil in /usr/local/lib/python3.10/dist-packages (from GoogleNews) (2.8.2)\n",
            "Requirement already satisfied: soupsieve>1.2 in /usr/local/lib/python3.10/dist-packages (from beautifulsoup4->GoogleNews) (2.5)\n",
            "Requirement already satisfied: pytz in /usr/local/lib/python3.10/dist-packages (from dateparser->GoogleNews) (2023.3.post1)\n",
            "Requirement already satisfied: regex!=2019.02.19,!=2021.8.27 in /usr/local/lib/python3.10/dist-packages (from dateparser->GoogleNews) (2023.6.3)\n",
            "Requirement already satisfied: tzlocal in /usr/local/lib/python3.10/dist-packages (from dateparser->GoogleNews) (5.2)\n",
            "Requirement already satisfied: six>=1.5 in /usr/local/lib/python3.10/dist-packages (from python-dateutil->GoogleNews) (1.16.0)\n",
            "[{'title': 'Pwn2Own Automotive: $1.3M for 49 zero-days, Tesla hacked twice', 'media': 'Bleeping Computer', 'date': '1 hour ago', 'datetime': datetime.datetime(2024, 1, 26, 12, 47, 46, 151080), 'desc': '', 'link': 'https://www.bleepingcomputer.com/news/security/pwn2own-automotive-13m-for-49-zero-days-tesla-hacked-twice/&ved=2ahUKEwjcyt7TmPuDAxVgTDABHY7_BRsQxfQBegQIAhAC&usg=AOvVaw1fuvV5P0N08iIb2bbX92by', 'img': 'data:image/gif;base64,R0lGODlhAQABAIAAAP///////yH5BAEKAAEALAAAAAABAAEAAAICTAEAOw=='}, {'title': 'Tesla recalls nearly 200,000 vehicles over faulty backup camera', 'media': 'CBS News', 'date': '1 hour ago', 'datetime': datetime.datetime(2024, 1, 26, 12, 47, 46, 163433), 'desc': '', 'link': 'https://www.cbsnews.com/news/tesla-recall-backup-camera-nearly-200000-vehicles-nhtsa/&ved=2ahUKEwjcyt7TmPuDAxVgTDABHY7_BRsQxfQBegQICRAC&usg=AOvVaw1y1t47nsJ7Txx8NnZuQC5u', 'img': 'data:image/gif;base64,R0lGODlhAQABAIAAAP///////yH5BAEKAAEALAAAAAABAAEAAAICTAEAOw=='}, {'title': 'Tesla Model 3 Tire Pressure Sensors Messed Up With New Non-Tesla Tires', 'media': 'CleanTechnica', 'date': '1 hour ago', 'datetime': datetime.datetime(2024, 1, 26, 12, 47, 46, 175369), 'desc': '', 'link': 'https://cleantechnica.com/2024/01/26/tesla-model-3-tire-pressure-sensors-messed-up-with-new-non-tesla-tires/&ved=2ahUKEwjcyt7TmPuDAxVgTDABHY7_BRsQxfQBegQIBxAC&usg=AOvVaw0qgR1EZ4tS5oJjlZpsjfTc', 'img': 'data:image/gif;base64,R0lGODlhAQABAIAAAP///////yH5BAEKAAEALAAAAAABAAEAAAICTAEAOw=='}, {'title': 'Tesla recalling nearly 200000 vehicles because software glitch can cause backup camera to go dark', 'media': 'AP News', 'date': '2 hours ago', 'datetime': datetime.datetime(2024, 1, 26, 11, 47, 46, 187361), 'desc': '', 'link': 'https://apnews.com/article/tesla-recall-backup-camera-screen-dark-software-update-e8cc7acb4395a99789c2fee680bfeab3&ved=2ahUKEwjcyt7TmPuDAxVgTDABHY7_BRsQxfQBegQIAxAC&usg=AOvVaw1gWbVBxjSEdccgr-iQpyPg', 'img': 'data:image/gif;base64,R0lGODlhAQABAIAAAP///////yH5BAEKAAEALAAAAAABAAEAAAICTAEAOw=='}, {'title': \"Elon Musk's 'sales warning' brings $80 billion 'bad news' for Tesla\", 'media': 'Times of India', 'date': '2 hours ago', 'datetime': datetime.datetime(2024, 1, 26, 11, 47, 46, 200136), 'desc': '', 'link': 'https://timesofindia.indiatimes.com/gadgets-news/elon-musks-sales-warning-brings-80-billion-bad-news-for-tesla/articleshow/107169622.cms&ved=2ahUKEwjcyt7TmPuDAxVgTDABHY7_BRsQxfQBegQICBAC&usg=AOvVaw3o4XvVnlXFrecBS3Y1d8j_', 'img': 'data:image/gif;base64,R0lGODlhAQABAIAAAP///////yH5BAEKAAEALAAAAAABAAEAAAICTAEAOw=='}, {'title': 'Tesla Sold Off Thursday. What Cathie Wood Did Was No Surprise.', 'media': \"Investor's Business Daily\", 'date': '2 hours ago', 'datetime': datetime.datetime(2024, 1, 26, 11, 47, 46, 211988), 'desc': '', 'link': 'https://www.investors.com/news/cathie-wood-tesla-had-its-worst-sell-off-in-year-ark-invest-bought-tsla-shares/&ved=2ahUKEwjcyt7TmPuDAxVgTDABHY7_BRsQxfQBegQIBhAC&usg=AOvVaw0L_KL6i6zrkxT_1dUcQJrU', 'img': 'data:image/gif;base64,R0lGODlhAQABAIAAAP///////yH5BAEKAAEALAAAAAABAAEAAAICTAEAOw=='}, {'title': 'Tesla Stock Has Plunged 52%. Can It Rejoin the $1 Trillion Club in 2024?', 'media': 'The Motley Fool', 'date': '2 hours ago', 'datetime': datetime.datetime(2024, 1, 26, 11, 47, 46, 223863), 'desc': '', 'link': 'https://www.fool.com/investing/2024/01/26/tesla-stock-plunged-52-rejoin-1-trillion-club-2024/&ved=2ahUKEwjcyt7TmPuDAxVgTDABHY7_BRsQxfQBegQIBBAC&usg=AOvVaw1xbEzxGqSmoXh1vyHvwDIc', 'img': 'data:image/gif;base64,R0lGODlhAQABAIAAAP///////yH5BAEKAAEALAAAAAABAAEAAAICTAEAOw=='}, {'title': \"Tesla Can't Keep Up With the Rest of the 'Magnificent Seven' - WSJ\", 'media': 'The Wall Street Journal', 'date': '3 hours ago', 'datetime': datetime.datetime(2024, 1, 26, 10, 47, 46, 236503), 'desc': '', 'link': 'https://www.wsj.com/finance/stocks/stocks-magnificent-seven-tesla-ea645bc0&ved=2ahUKEwjcyt7TmPuDAxVgTDABHY7_BRsQxfQBegQIBRAC&usg=AOvVaw3vNRPWo8juXTE1DV9TpYUO', 'img': 'data:image/gif;base64,R0lGODlhAQABAIAAAP///////yH5BAEKAAEALAAAAAABAAEAAAICTAEAOw=='}, {'title': 'How a hot EV company most Americans have never heard of managed to zoom by Tesla', 'media': 'Fast Company', 'date': '3 hours ago', 'datetime': datetime.datetime(2024, 1, 26, 10, 47, 46, 248537), 'desc': '', 'link': 'https://www.fastcompany.com/91016770/hottest-ev-startup-byd-china-tesla&ved=2ahUKEwjcyt7TmPuDAxVgTDABHY7_BRsQxfQBegQIARAC&usg=AOvVaw1knyVV6jJGjVWoo8ObcdxL', 'img': 'data:image/gif;base64,R0lGODlhAQABAIAAAP///////yH5BAEKAAEALAAAAAABAAEAAAICTAEAOw=='}, {'title': 'Tesla Earnings Show the Stock Can’t Live in Musk’s Fantasyland Any Longer', 'media': \"Barron's\", 'date': '3 hours ago', 'datetime': datetime.datetime(2024, 1, 26, 10, 47, 46, 260643), 'desc': '', 'link': 'https://www.barrons.com/articles/tesla-musk-stock-earnings-cfc5f33c&ved=2ahUKEwjcyt7TmPuDAxVgTDABHY7_BRsQxfQBegQIABAC&usg=AOvVaw3ESLYDn4sWJAVS0B1EM-lA', 'img': 'data:image/gif;base64,R0lGODlhAQABAIAAAP///////yH5BAEKAAEALAAAAAABAAEAAAICTAEAOw=='}]\n",
            "                                               title              media  \\\n",
            "0  Pwn2Own Automotive: $1.3M for 49 zero-days, Te...  Bleeping Computer   \n",
            "1  Tesla recalls nearly 200,000 vehicles over fau...           CBS News   \n",
            "2  Tesla Model 3 Tire Pressure Sensors Messed Up ...      CleanTechnica   \n",
            "3  Tesla recalling nearly 200000 vehicles because...            AP News   \n",
            "4  Elon Musk's 'sales warning' brings $80 billion...     Times of India   \n",
            "\n",
            "          date                   datetime desc  \\\n",
            "0   1 hour ago 2024-01-26 12:47:46.151080        \n",
            "1   1 hour ago 2024-01-26 12:47:46.163433        \n",
            "2   1 hour ago 2024-01-26 12:47:46.175369        \n",
            "3  2 hours ago 2024-01-26 11:47:46.187361        \n",
            "4  2 hours ago 2024-01-26 11:47:46.200136        \n",
            "\n",
            "                                                link  \\\n",
            "0  https://www.bleepingcomputer.com/news/security...   \n",
            "1  https://www.cbsnews.com/news/tesla-recall-back...   \n",
            "2  https://cleantechnica.com/2024/01/26/tesla-mod...   \n",
            "3  https://apnews.com/article/tesla-recall-backup...   \n",
            "4  https://timesofindia.indiatimes.com/gadgets-ne...   \n",
            "\n",
            "                                                 img  \n",
            "0  data:image/gif;base64,R0lGODlhAQABAIAAAP//////...  \n",
            "1  data:image/gif;base64,R0lGODlhAQABAIAAAP//////...  \n",
            "2  data:image/gif;base64,R0lGODlhAQABAIAAAP//////...  \n",
            "3  data:image/gif;base64,R0lGODlhAQABAIAAAP//////...  \n",
            "4  data:image/gif;base64,R0lGODlhAQABAIAAAP//////...  \n"
          ]
        }
      ],
      "source": [
        "# Importing necessary tools\n",
        "!pip install GoogleNews\n",
        "from pandas import DataFrame\n",
        "from GoogleNews import GoogleNews\n",
        "from datetime import date, timedelta\n",
        "\n",
        "# Extracting news for a specific company\n",
        "now = date.today()\n",
        "yesterday = date.today() - timedelta(days=1)\n",
        "google_news = GoogleNews(start=yesterday, end=now)\n",
        "google_news.search(\"TESLA\")\n",
        "result = google_news.result()\n",
        "print(result)\n",
        "df = DataFrame(result)\n",
        "print(df.head())"
      ]
    },
    {
      "cell_type": "code",
      "source": [
        "# Code snippet for summarizing articles\n",
        "!pip install newspaper3k\n",
        "from newspaper import article, Article, Config\n",
        "\n",
        "# Creating an empty list\n",
        "article_list = []\n",
        "\n",
        "# Iterating over the dataframe\n",
        "for i in df.index:\n",
        "    article_dict = {}\n",
        "    article_obj = Article(df['link'][i], config=Config())\n",
        "\n",
        "    try:\n",
        "        article_obj.download()\n",
        "        article_obj.parse()\n",
        "        article_obj.nlp()\n",
        "    except:\n",
        "        pass\n",
        "\n",
        "    # Storing results in the dictionary\n",
        "    article_dict['Date'] = df['date'][i]\n",
        "    article_dict['Media'] = df['media'][i]\n",
        "    article_dict['Title'] = article_obj.title\n",
        "    article_dict['Article'] = article_obj.text\n",
        "    article_dict['Summary'] = article_obj.summary\n",
        "    article_dict['Key_words'] = article_obj.keywords\n",
        "    article_list.append(article_dict)\n",
        "\n",
        "   # print(article_list)\n",
        "    #print(df['date'][i])\n",
        "    print(article_obj.title)\n",
        "    print(article_obj.text)\n",
        "\n",
        "\n",
        "# Creating a dataframe\n",
        "news_df = DataFrame(article_list)\n",
        "print(news_df)"
      ],
      "metadata": {
        "colab": {
          "base_uri": "https://localhost:8080/"
        },
        "id": "lxmF3XJR69fZ",
        "outputId": "9e40d2c2-2bb4-4b67-de22-72583844cbd3"
      },
      "execution_count": null,
      "outputs": [
        {
          "output_type": "stream",
          "name": "stdout",
          "text": [
            "Requirement already satisfied: newspaper3k in /usr/local/lib/python3.10/dist-packages (0.2.8)\n",
            "Requirement already satisfied: beautifulsoup4>=4.4.1 in /usr/local/lib/python3.10/dist-packages (from newspaper3k) (4.11.2)\n",
            "Requirement already satisfied: Pillow>=3.3.0 in /usr/local/lib/python3.10/dist-packages (from newspaper3k) (9.4.0)\n",
            "Requirement already satisfied: PyYAML>=3.11 in /usr/local/lib/python3.10/dist-packages (from newspaper3k) (6.0.1)\n",
            "Requirement already satisfied: cssselect>=0.9.2 in /usr/local/lib/python3.10/dist-packages (from newspaper3k) (1.2.0)\n",
            "Requirement already satisfied: lxml>=3.6.0 in /usr/local/lib/python3.10/dist-packages (from newspaper3k) (4.9.4)\n",
            "Requirement already satisfied: nltk>=3.2.1 in /usr/local/lib/python3.10/dist-packages (from newspaper3k) (3.8.1)\n",
            "Requirement already satisfied: requests>=2.10.0 in /usr/local/lib/python3.10/dist-packages (from newspaper3k) (2.31.0)\n",
            "Requirement already satisfied: feedparser>=5.2.1 in /usr/local/lib/python3.10/dist-packages (from newspaper3k) (6.0.11)\n",
            "Requirement already satisfied: tldextract>=2.0.1 in /usr/local/lib/python3.10/dist-packages (from newspaper3k) (5.1.1)\n",
            "Requirement already satisfied: feedfinder2>=0.0.4 in /usr/local/lib/python3.10/dist-packages (from newspaper3k) (0.0.4)\n",
            "Requirement already satisfied: jieba3k>=0.35.1 in /usr/local/lib/python3.10/dist-packages (from newspaper3k) (0.35.1)\n",
            "Requirement already satisfied: python-dateutil>=2.5.3 in /usr/local/lib/python3.10/dist-packages (from newspaper3k) (2.8.2)\n",
            "Requirement already satisfied: tinysegmenter==0.3 in /usr/local/lib/python3.10/dist-packages (from newspaper3k) (0.3)\n",
            "Requirement already satisfied: soupsieve>1.2 in /usr/local/lib/python3.10/dist-packages (from beautifulsoup4>=4.4.1->newspaper3k) (2.5)\n",
            "Requirement already satisfied: six in /usr/local/lib/python3.10/dist-packages (from feedfinder2>=0.0.4->newspaper3k) (1.16.0)\n",
            "Requirement already satisfied: sgmllib3k in /usr/local/lib/python3.10/dist-packages (from feedparser>=5.2.1->newspaper3k) (1.0.0)\n",
            "Requirement already satisfied: click in /usr/local/lib/python3.10/dist-packages (from nltk>=3.2.1->newspaper3k) (8.1.7)\n",
            "Requirement already satisfied: joblib in /usr/local/lib/python3.10/dist-packages (from nltk>=3.2.1->newspaper3k) (1.3.2)\n",
            "Requirement already satisfied: regex>=2021.8.3 in /usr/local/lib/python3.10/dist-packages (from nltk>=3.2.1->newspaper3k) (2023.6.3)\n",
            "Requirement already satisfied: tqdm in /usr/local/lib/python3.10/dist-packages (from nltk>=3.2.1->newspaper3k) (4.66.1)\n",
            "Requirement already satisfied: charset-normalizer<4,>=2 in /usr/local/lib/python3.10/dist-packages (from requests>=2.10.0->newspaper3k) (3.3.2)\n",
            "Requirement already satisfied: idna<4,>=2.5 in /usr/local/lib/python3.10/dist-packages (from requests>=2.10.0->newspaper3k) (3.6)\n",
            "Requirement already satisfied: urllib3<3,>=1.21.1 in /usr/local/lib/python3.10/dist-packages (from requests>=2.10.0->newspaper3k) (2.0.7)\n",
            "Requirement already satisfied: certifi>=2017.4.17 in /usr/local/lib/python3.10/dist-packages (from requests>=2.10.0->newspaper3k) (2023.11.17)\n",
            "Requirement already satisfied: requests-file>=1.4 in /usr/local/lib/python3.10/dist-packages (from tldextract>=2.0.1->newspaper3k) (1.5.1)\n",
            "Requirement already satisfied: filelock>=3.0.8 in /usr/local/lib/python3.10/dist-packages (from tldextract>=2.0.1->newspaper3k) (3.13.1)\n",
            "\n",
            "\n",
            "\n",
            "\n",
            "\n",
            "\n",
            "Tesla recalling nearly 200,000 vehicles because software glitch can cause backup camera to go dark\n",
            "Tesla is recalling nearly 200,000 vehicles in the U.S. because the backup camera may not function while the car is in reverse.\n",
            "\n",
            "The recall covers certain Models Y, S and X from the 2023 model year. All are equipped with “Full Self-Driving” computer 4.0 and run software version 2023.44.30 through 2023.44.30.6 or 2023.44.100.\n",
            "\n",
            "The company says in documents posted by the U.S. National Highway Traffic Safety Administration that software instability may prevent the camera image from showing images while the Teslas are in reverse. The safety agency says that can increase the risk of a crash.\n",
            "\n",
            "Tesla says in documents that it is not aware of any crashes or injuries. Documents say the problem has been fixed with an online software update.\n",
            "\n",
            "Owners will be notified by letter starting March 22.\n",
            "\n",
            "Tesla said in documents that it is not aware of any crashes, injuries or deaths related to the issue.\n",
            "\n",
            "Tesla began getting complaints about the problem in late December and decided to do a recall on Jan. 12, documents say. As of Jan. 22, the company had 81 warranty claims potentially related to the problem.\n",
            "\n",
            "Teslas cannot drive themselves despite having a “Full Self-Driving” system, and human drivers have to be ready to intervene at all times.\n",
            "\n",
            "\n",
            "\n",
            "\n",
            "\n",
            "\n",
            "\n",
            "\n",
            "\n",
            "\n",
            "\n",
            "\n",
            "          Date                      Media  \\\n",
            "0   1 hour ago          Bleeping Computer   \n",
            "1   1 hour ago                   CBS News   \n",
            "2   1 hour ago              CleanTechnica   \n",
            "3  2 hours ago                    AP News   \n",
            "4  2 hours ago             Times of India   \n",
            "5  2 hours ago  Investor's Business Daily   \n",
            "6  2 hours ago            The Motley Fool   \n",
            "7  3 hours ago    The Wall Street Journal   \n",
            "8  3 hours ago               Fast Company   \n",
            "9  3 hours ago                   Barron's   \n",
            "\n",
            "                                               Title  \\\n",
            "0                                                      \n",
            "1                                                      \n",
            "2                                                      \n",
            "3  Tesla recalling nearly 200,000 vehicles becaus...   \n",
            "4                                                      \n",
            "5                                                      \n",
            "6                                                      \n",
            "7                                                      \n",
            "8                                                      \n",
            "9                                                      \n",
            "\n",
            "                                             Article Summary  \\\n",
            "0                                                              \n",
            "1                                                              \n",
            "2                                                              \n",
            "3  Tesla is recalling nearly 200,000 vehicles in ...           \n",
            "4                                                              \n",
            "5                                                              \n",
            "6                                                              \n",
            "7                                                              \n",
            "8                                                              \n",
            "9                                                              \n",
            "\n",
            "                                           Key_words  \n",
            "0                                                 []  \n",
            "1                                                 []  \n",
            "2                                                 []  \n",
            "3  [selfdriving, documents, injuries, say, proble...  \n",
            "4                                                 []  \n",
            "5                                                 []  \n",
            "6                                                 []  \n",
            "7                                                 []  \n",
            "8                                                 []  \n",
            "9                                                 []  \n"
          ]
        }
      ]
    },
    {
      "cell_type": "code",
      "source": [
        "print(df.index)"
      ],
      "metadata": {
        "colab": {
          "base_uri": "https://localhost:8080/"
        },
        "id": "OnmOOmfeCRW-",
        "outputId": "6485e5e8-dd99-42c8-db7b-39c9d0a4612f"
      },
      "execution_count": null,
      "outputs": [
        {
          "output_type": "stream",
          "name": "stdout",
          "text": [
            "RangeIndex(start=0, stop=10, step=1)\n"
          ]
        }
      ]
    },
    {
      "cell_type": "code",
      "source": [
        "!pip install nltk\n",
        "import nltk\n",
        "nltk.download('vader_lexicon')"
      ],
      "metadata": {
        "colab": {
          "base_uri": "https://localhost:8080/"
        },
        "id": "uYLMLRe1_uYl",
        "outputId": "c6d6e6a8-ebf2-402c-ac04-b36960e491e6"
      },
      "execution_count": null,
      "outputs": [
        {
          "output_type": "stream",
          "name": "stdout",
          "text": [
            "Requirement already satisfied: nltk in /usr/local/lib/python3.10/dist-packages (3.8.1)\n",
            "Requirement already satisfied: click in /usr/local/lib/python3.10/dist-packages (from nltk) (8.1.7)\n",
            "Requirement already satisfied: joblib in /usr/local/lib/python3.10/dist-packages (from nltk) (1.3.2)\n",
            "Requirement already satisfied: regex>=2021.8.3 in /usr/local/lib/python3.10/dist-packages (from nltk) (2023.6.3)\n",
            "Requirement already satisfied: tqdm in /usr/local/lib/python3.10/dist-packages (from nltk) (4.66.1)\n"
          ]
        },
        {
          "output_type": "stream",
          "name": "stderr",
          "text": [
            "[nltk_data] Downloading package vader_lexicon to /root/nltk_data...\n",
            "[nltk_data]   Package vader_lexicon is already up-to-date!\n"
          ]
        },
        {
          "output_type": "execute_result",
          "data": {
            "text/plain": [
              "True"
            ]
          },
          "metadata": {},
          "execution_count": 21
        }
      ]
    },
    {
      "cell_type": "code",
      "source": [
        "# Code snippet for sentiment analysis\n",
        "from nltk.sentiment.vader import SentimentIntensityAnalyzer\n",
        "\n",
        "# Initializing variables\n",
        "positive = 0\n",
        "negative = 0\n",
        "neutral = 0\n",
        "news_list = []\n",
        "neutral_list = []\n",
        "negative_list = []\n",
        "positive_list = []\n",
        "\n",
        "# Iterating over the news summaries\n",
        "for news in df['title']:\n",
        "    news_list.append(news)\n",
        "    analyzer = SentimentIntensityAnalyzer().polarity_scores(news)\n",
        "    neg = analyzer['neg']\n",
        "    neu = analyzer['neu']\n",
        "    pos = analyzer['pos']\n",
        "\n",
        "    if neg > pos:\n",
        "        negative_list.append(news)\n",
        "        negative += 1\n",
        "    elif pos > neg:\n",
        "        positive_list.append(news)\n",
        "        positive += 1\n",
        "    elif pos == neg:\n",
        "        neutral_list.append(news)\n",
        "        neutral += 1\n",
        "\n",
        "positive_percentage = (positive / len(news_df)) * 100\n",
        "negative_percentage = (negative / len(news_df)) * 100\n",
        "neutral_percentage = (neutral / len(news_df)) * 100\n",
        "\n",
        "print(\"Positive Sentiment:\", '%.2f' % positive_percentage, end='\\n')\n",
        "print(\"Neutral Sentiment:\", '%.2f' % neutral_percentage, end='\\n')\n",
        "print(\"Negative Sentiment:\", '%.2f' % negative_percentage, end='\\n')"
      ],
      "metadata": {
        "colab": {
          "base_uri": "https://localhost:8080/"
        },
        "id": "gbyb9f0Y_cMe",
        "outputId": "2ab5c1a8-9b09-4368-bbf7-54a7e95a0280"
      },
      "execution_count": null,
      "outputs": [
        {
          "output_type": "stream",
          "name": "stdout",
          "text": [
            "Positive Sentiment: 10.00\n",
            "Neutral Sentiment: 40.00\n",
            "Negative Sentiment: 50.00\n"
          ]
        }
      ]
    },
    {
      "cell_type": "code",
      "source": [
        "# Code snippet for sentiment visualization\n",
        "import matplotlib.pyplot as plt\n",
        "\n",
        "labels = ['Positive ['+str(round(positive_percentage))+'%]' , 'Neutral ['+str(round(neutral_percentage))+'%]','Negative ['+str(round(negative_percentage))+'%]']\n",
        "sizes = [positive_percentage, neutral_percentage, negative_percentage]\n",
        "colors = ['yellowgreen', 'blue','red']\n",
        "plt.pie(sizes, colors=colors, startangle=90)\n",
        "plt.legend(labels)\n",
        "plt.title(\"Sentiment Analysis Result for Stock= Company Name\" )\n",
        "plt.axis('equal')\n",
        "plt.show()"
      ],
      "metadata": {
        "colab": {
          "base_uri": "https://localhost:8080/",
          "height": 428
        },
        "id": "WPKtkv0q_87b",
        "outputId": "c4f8dece-f5f9-43eb-8514-92f2ae57ecd2"
      },
      "execution_count": null,
      "outputs": [
        {
          "output_type": "display_data",
          "data": {
            "text/plain": [
              "<Figure size 640x480 with 1 Axes>"
            ],
            "image/png": "[encoded data removed]"
          },
          "metadata": {}
        }
      ]
    },
    {
      "cell_type": "code",
      "source": [
        "df['title'].dtypes\n"
      ],
      "metadata": {
        "colab": {
          "base_uri": "https://localhost:8080/"
        },
        "id": "lcHb6l6SBByq",
        "outputId": "b3aa03a2-1e74-4658-cb1c-f13efbe9b7d8"
      },
      "execution_count": null,
      "outputs": [
        {
          "output_type": "execute_result",
          "data": {
            "text/plain": [
              "dtype('O')"
            ]
          },
          "metadata": {},
          "execution_count": 26
        }
      ]
    },
    {
      "cell_type": "code",
      "source": [
        "print(df['title'])\n"
      ],
      "metadata": {
        "colab": {
          "base_uri": "https://localhost:8080/"
        },
        "id": "Gkka60kvAL_-",
        "outputId": "5eb7ba78-53c4-4b54-9bc7-8b4e0d81b9c3"
      },
      "execution_count": null,
      "outputs": [
        {
          "output_type": "stream",
          "name": "stdout",
          "text": [
            "0    Pwn2Own Automotive: $1.3M for 49 zero-days, Te...\n",
            "1    Tesla recalls nearly 200,000 vehicles over fau...\n",
            "2    Tesla Model 3 Tire Pressure Sensors Messed Up ...\n",
            "3    Tesla recalling nearly 200000 vehicles because...\n",
            "4    Elon Musk's 'sales warning' brings $80 billion...\n",
            "5    Tesla Sold Off Thursday. What Cathie Wood Did ...\n",
            "6    Tesla Stock Has Plunged 52%. Can It Rejoin the...\n",
            "7    Tesla Can't Keep Up With the Rest of the 'Magn...\n",
            "8    How a hot EV company most Americans have never...\n",
            "9    Tesla Earnings Show the Stock Can’t Live in Mu...\n",
            "Name: title, dtype: object\n"
          ]
        }
      ]
    },
    {
      "cell_type": "code",
      "source": [
        "df['title'] = df['title'].astype(str)\n"
      ],
      "metadata": {
        "id": "obvbENo8ES6H"
      },
      "execution_count": null,
      "outputs": []
    },
    {
      "cell_type": "code",
      "source": [],
      "metadata": {
        "id": "EHy35Vc_EdSz"
      },
      "execution_count": null,
      "outputs": []
    }
  ]
}