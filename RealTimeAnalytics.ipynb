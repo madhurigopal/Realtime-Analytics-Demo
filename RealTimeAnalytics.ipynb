{
  "nbformat": 4,
  "nbformat_minor": 0,
  "metadata": {
    "colab": {
      "provenance": []
    },
    "kernelspec": {
      "name": "python3",
      "display_name": "Python 3"
    },
    "language_info": {
      "name": "python"
    }
  },
  "cells": [
    {
      "cell_type": "code",
      "execution_count": null,
      "metadata": {
        "id": "PcDdg6ZBIk2i"
      },
      "outputs": [],
      "source": [
        "pip install alpha_vantage\n"
      ]
    },
    {
      "cell_type": "code",
      "source": [
        "from alpha_vantage.timeseries import TimeSeries\n",
        "import time\n",
        "\n",
        "# Replace 'YOUR_API_KEY' with your Alpha Vantage API key\n",
        "api_key = '2YG5EGPUFJJ8PZX7'\n",
        "symbol = 'AAPL'  # Replace with the stock symbol you're interested in\n",
        "\n",
        "# Function to fetch real-time stock data from Alpha Vantage\n",
        "def fetch_real_time_stock_data():\n",
        "    ts = TimeSeries(key=api_key, output_format='json')\n",
        "\n",
        "    while True:\n",
        "        try:\n",
        "            # Get the real-time stock data\n",
        "            data, meta_data = ts.get_quote_endpoint(symbol=symbol)\n",
        "\n",
        "            # Extract relevant information from the response\n",
        "            stock_price = data['05. price']\n",
        "            stock_volume = data['06. volume']\n",
        "\n",
        "            # Process the data (you can save it to a database or perform further analysis)\n",
        "            print(f\"Symbol: {symbol}, Price: {stock_price}, Volume: {stock_volume}\")\n",
        "\n",
        "        except Exception as e:\n",
        "            print(f\"Error fetching data: {e}\")\n",
        "\n",
        "       # time.sleep(60)  # Fetch data every 60 seconds\n",
        "\n",
        "if __name__ == \"__main__\":\n",
        "    fetch_real_time_stock_data()\n"
      ],
      "metadata": {
        "colab": {
          "base_uri": "https://localhost:8080/"
        },
        "id": "P8yD_7IDLl0G",
        "outputId": "24951c60-e2b0-4612-ae77-cf62566b1fdf"
      },
      "execution_count": null,
      "outputs": [
        {
          "output_type": "stream",
          "name": "stdout",
          "text": [
            "Symbol: AAPL, Price: 194.1700, Volume: 54822126\n",
            "Symbol: AAPL, Price: 194.1700, Volume: 54822126\n"
          ]
        }
      ]
    }
  ]
}